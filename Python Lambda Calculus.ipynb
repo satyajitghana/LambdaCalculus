{
 "cells": [
  {
   "cell_type": "markdown",
   "metadata": {},
   "source": [
    "# Python Lambda Calculus"
   ]
  },
  {
   "cell_type": "markdown",
   "metadata": {},
   "source": [
    "## Booleans"
   ]
  },
  {
   "cell_type": "code",
   "execution_count": 48,
   "metadata": {},
   "outputs": [],
   "source": [
    "TRUE = lambda x: lambda y: x"
   ]
  },
  {
   "cell_type": "code",
   "execution_count": 49,
   "metadata": {},
   "outputs": [],
   "source": [
    "TRUE.__name__ = \"True\""
   ]
  },
  {
   "cell_type": "code",
   "execution_count": 51,
   "metadata": {},
   "outputs": [
    {
     "name": "stdout",
     "output_type": "stream",
     "text": [
      "<function <lambda> at 0x000001F171C77840>\n"
     ]
    }
   ],
   "source": [
    "print(TRUE)"
   ]
  },
  {
   "cell_type": "code",
   "execution_count": 2,
   "metadata": {},
   "outputs": [],
   "source": [
    "FALSE = lambda x: lambda y: y"
   ]
  },
  {
   "cell_type": "code",
   "execution_count": 46,
   "metadata": {},
   "outputs": [],
   "source": [
    "FALSE.__name__ = \"False\""
   ]
  },
  {
   "cell_type": "markdown",
   "metadata": {},
   "source": [
    "### Utility Functions"
   ]
  },
  {
   "cell_type": "code",
   "execution_count": 3,
   "metadata": {},
   "outputs": [],
   "source": [
    "toBool = lambda x: x(True)(False)"
   ]
  },
  {
   "cell_type": "code",
   "execution_count": 4,
   "metadata": {},
   "outputs": [
    {
     "data": {
      "text/plain": [
       "True"
      ]
     },
     "execution_count": 4,
     "metadata": {},
     "output_type": "execute_result"
    }
   ],
   "source": [
    "toBool(TRUE)"
   ]
  },
  {
   "cell_type": "code",
   "execution_count": 5,
   "metadata": {},
   "outputs": [
    {
     "data": {
      "text/plain": [
       "False"
      ]
     },
     "execution_count": 5,
     "metadata": {},
     "output_type": "execute_result"
    }
   ],
   "source": [
    "toBool(FALSE)"
   ]
  },
  {
   "cell_type": "markdown",
   "metadata": {},
   "source": [
    "### Logical Operators"
   ]
  },
  {
   "cell_type": "code",
   "execution_count": 6,
   "metadata": {},
   "outputs": [],
   "source": [
    "AND = lambda x: lambda y: x(y)(FALSE)"
   ]
  },
  {
   "cell_type": "code",
   "execution_count": 7,
   "metadata": {},
   "outputs": [],
   "source": [
    "OR = lambda x: lambda y: x(TRUE)(y)"
   ]
  },
  {
   "cell_type": "code",
   "execution_count": 8,
   "metadata": {},
   "outputs": [],
   "source": [
    "NOT = lambda x: x(FALSE)(TRUE)"
   ]
  },
  {
   "cell_type": "code",
   "execution_count": 9,
   "metadata": {},
   "outputs": [],
   "source": [
    "XOR = lambda x:  lambda y: x(NOT(y))(y)"
   ]
  },
  {
   "cell_type": "markdown",
   "metadata": {},
   "source": [
    "## Natural Numbers"
   ]
  },
  {
   "cell_type": "code",
   "execution_count": 10,
   "metadata": {},
   "outputs": [],
   "source": [
    "ZERO = lambda f: lambda x: x"
   ]
  },
  {
   "cell_type": "code",
   "execution_count": 11,
   "metadata": {},
   "outputs": [],
   "source": [
    "ONE = lambda f: lambda x: f(x)"
   ]
  },
  {
   "cell_type": "code",
   "execution_count": 12,
   "metadata": {},
   "outputs": [],
   "source": [
    "TWO = lambda f: lambda x: f(f(x))"
   ]
  },
  {
   "cell_type": "code",
   "execution_count": 13,
   "metadata": {},
   "outputs": [],
   "source": [
    "THREE = lambda f: lambda x: f(f(f(x)))"
   ]
  },
  {
   "cell_type": "code",
   "execution_count": 14,
   "metadata": {},
   "outputs": [],
   "source": [
    "FOUR = lambda f: lambda x: f(f(f(f(x))))"
   ]
  },
  {
   "cell_type": "markdown",
   "metadata": {},
   "source": [
    "### Number Functions"
   ]
  },
  {
   "cell_type": "code",
   "execution_count": 15,
   "metadata": {},
   "outputs": [],
   "source": [
    "SUCC = lambda n: lambda f: lambda x: f(n(f)(x))"
   ]
  },
  {
   "cell_type": "code",
   "execution_count": 16,
   "metadata": {},
   "outputs": [],
   "source": [
    "PRED = lambda n: n(lambda p: lambda z: z(SUCC(p(TRUE)))(p(TRUE)))(lambda z: z(ZERO)(ZERO))(FALSE)"
   ]
  },
  {
   "cell_type": "code",
   "execution_count": 17,
   "metadata": {},
   "outputs": [],
   "source": [
    "PLUS = lambda k: lambda n: k(SUCC)(n)"
   ]
  },
  {
   "cell_type": "code",
   "execution_count": 18,
   "metadata": {},
   "outputs": [],
   "source": [
    "MULT = lambda k: lambda n: lambda f: n(k(f))"
   ]
  },
  {
   "cell_type": "code",
   "execution_count": 19,
   "metadata": {},
   "outputs": [],
   "source": [
    "MULT = lambda k: lambda n: k(PLUS(n))(ZERO)"
   ]
  },
  {
   "cell_type": "code",
   "execution_count": 20,
   "metadata": {},
   "outputs": [],
   "source": [
    "EXP = lambda k: lambda n: n(k)"
   ]
  },
  {
   "cell_type": "markdown",
   "metadata": {},
   "source": [
    "### Utility Functions"
   ]
  },
  {
   "cell_type": "code",
   "execution_count": 21,
   "metadata": {},
   "outputs": [],
   "source": [
    "toInt = lambda x: x(lambda n: n + 1)(0)"
   ]
  },
  {
   "cell_type": "code",
   "execution_count": 22,
   "metadata": {},
   "outputs": [
    {
     "data": {
      "text/plain": [
       "4"
      ]
     },
     "execution_count": 22,
     "metadata": {},
     "output_type": "execute_result"
    }
   ],
   "source": [
    "toInt(FOUR)"
   ]
  },
  {
   "cell_type": "code",
   "execution_count": 23,
   "metadata": {},
   "outputs": [
    {
     "data": {
      "text/plain": [
       "5"
      ]
     },
     "execution_count": 23,
     "metadata": {},
     "output_type": "execute_result"
    }
   ],
   "source": [
    "toInt(SUCC(FOUR))"
   ]
  },
  {
   "cell_type": "code",
   "execution_count": 24,
   "metadata": {},
   "outputs": [
    {
     "data": {
      "text/plain": [
       "3"
      ]
     },
     "execution_count": 24,
     "metadata": {},
     "output_type": "execute_result"
    }
   ],
   "source": [
    "toInt(PRED(FOUR))"
   ]
  },
  {
   "cell_type": "code",
   "execution_count": 25,
   "metadata": {},
   "outputs": [
    {
     "data": {
      "text/plain": [
       "7"
      ]
     },
     "execution_count": 25,
     "metadata": {},
     "output_type": "execute_result"
    }
   ],
   "source": [
    "toInt(PLUS(FOUR)(THREE))"
   ]
  },
  {
   "cell_type": "code",
   "execution_count": 26,
   "metadata": {},
   "outputs": [
    {
     "data": {
      "text/plain": [
       "12"
      ]
     },
     "execution_count": 26,
     "metadata": {},
     "output_type": "execute_result"
    }
   ],
   "source": [
    "toInt(MULT(FOUR)(THREE))"
   ]
  },
  {
   "cell_type": "code",
   "execution_count": 27,
   "metadata": {},
   "outputs": [
    {
     "data": {
      "text/plain": [
       "16"
      ]
     },
     "execution_count": 27,
     "metadata": {},
     "output_type": "execute_result"
    }
   ],
   "source": [
    "toInt(EXP(TWO)(FOUR))"
   ]
  },
  {
   "cell_type": "markdown",
   "metadata": {},
   "source": [
    "# Unit Testing"
   ]
  },
  {
   "cell_type": "code",
   "execution_count": 28,
   "metadata": {},
   "outputs": [],
   "source": [
    "import unittest"
   ]
  },
  {
   "cell_type": "code",
   "execution_count": 29,
   "metadata": {},
   "outputs": [],
   "source": [
    "class Testing(unittest.TestCase):\n",
    "    def test_booleans(self):\n",
    "        self.assertEqual(AND(TRUE)(TRUE), TRUE)\n",
    "        self.assertEqual(OR(FALSE)(FALSE), FALSE)\n",
    "        self.assertEqual(NOT(FALSE), TRUE)\n",
    "        self.assertEqual(XOR(TRUE)(TRUE), FALSE)\n",
    "    def test_naturals(self):\n",
    "        self.assertEqual(toInt(ZERO), 0)\n",
    "        self.assertEqual(toInt(ONE), 1)\n",
    "        self.assertEqual(toInt(TWO), 2)\n",
    "        self.assertEqual(toInt(THREE), 3)\n",
    "        self.assertEqual(toInt(FOUR), 4)\n",
    "        self.assertEqual(toInt(SUCC(FOUR)), 5)\n",
    "        self.assertEqual(toInt(PLUS(FOUR)(THREE)), 7)"
   ]
  },
  {
   "cell_type": "code",
   "execution_count": 30,
   "metadata": {},
   "outputs": [
    {
     "name": "stderr",
     "output_type": "stream",
     "text": [
      "..\n",
      "----------------------------------------------------------------------\n",
      "Ran 2 tests in 0.013s\n",
      "\n",
      "OK\n"
     ]
    },
    {
     "data": {
      "text/plain": [
       "<unittest.main.TestProgram at 0x1f171c73da0>"
      ]
     },
     "execution_count": 30,
     "metadata": {},
     "output_type": "execute_result"
    }
   ],
   "source": [
    "unittest.main(argv=['first-arg-is-ignored'], exit=False)"
   ]
  },
  {
   "cell_type": "code",
   "execution_count": 38,
   "metadata": {
    "scrolled": true
   },
   "outputs": [
    {
     "data": {
      "text/plain": [
       "['👧🐶',\n",
       " 1,\n",
       " 2,\n",
       " '🐶',\n",
       " 4,\n",
       " '👧',\n",
       " '🐶',\n",
       " 7,\n",
       " 8,\n",
       " '🐶',\n",
       " '👧',\n",
       " 11,\n",
       " '🐶',\n",
       " 13,\n",
       " 14,\n",
       " '👧🐶',\n",
       " 16,\n",
       " 17,\n",
       " '🐶',\n",
       " 19,\n",
       " '👧',\n",
       " '🐶',\n",
       " 22,\n",
       " 23,\n",
       " '🐶',\n",
       " '👧',\n",
       " 26,\n",
       " '🐶',\n",
       " 28,\n",
       " 29,\n",
       " '👧🐶',\n",
       " 31,\n",
       " 32,\n",
       " '🐶',\n",
       " 34,\n",
       " '👧',\n",
       " '🐶',\n",
       " 37,\n",
       " 38,\n",
       " '🐶',\n",
       " '👧',\n",
       " 41,\n",
       " '🐶',\n",
       " 43,\n",
       " 44,\n",
       " '👧🐶',\n",
       " 46,\n",
       " 47,\n",
       " '🐶',\n",
       " 49,\n",
       " '👧',\n",
       " '🐶',\n",
       " 52,\n",
       " 53,\n",
       " '🐶',\n",
       " '👧',\n",
       " 56,\n",
       " '🐶',\n",
       " 58,\n",
       " 59,\n",
       " '👧🐶',\n",
       " 61,\n",
       " 62,\n",
       " '🐶',\n",
       " 64,\n",
       " '👧',\n",
       " '🐶',\n",
       " 67,\n",
       " 68,\n",
       " '🐶',\n",
       " '👧',\n",
       " 71,\n",
       " '🐶',\n",
       " 73,\n",
       " 74,\n",
       " '👧🐶',\n",
       " 76,\n",
       " 77,\n",
       " '🐶',\n",
       " 79,\n",
       " '👧',\n",
       " '🐶',\n",
       " 82,\n",
       " 83,\n",
       " '🐶',\n",
       " '👧',\n",
       " 86,\n",
       " '🐶',\n",
       " 88,\n",
       " 89,\n",
       " '👧🐶',\n",
       " 91,\n",
       " 92,\n",
       " '🐶',\n",
       " 94,\n",
       " '👧',\n",
       " '🐶',\n",
       " 97,\n",
       " 98,\n",
       " '🐶']"
      ]
     },
     "execution_count": 38,
     "metadata": {},
     "output_type": "execute_result"
    }
   ],
   "source": [
    "[(lambda x: '👧🐶' if x%15==0 else '🐶' if x%3==0 else '👧' if x%5==0 else x )(i) for i in range(100)]"
   ]
  }
 ],
 "metadata": {
  "kernelspec": {
   "display_name": "Python 3",
   "language": "python",
   "name": "python3"
  },
  "language_info": {
   "codemirror_mode": {
    "name": "ipython",
    "version": 3
   },
   "file_extension": ".py",
   "mimetype": "text/x-python",
   "name": "python",
   "nbconvert_exporter": "python",
   "pygments_lexer": "ipython3",
   "version": "3.6.5"
  }
 },
 "nbformat": 4,
 "nbformat_minor": 2
}
