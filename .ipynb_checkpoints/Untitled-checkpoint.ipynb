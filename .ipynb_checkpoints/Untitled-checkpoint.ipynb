{
 "cells": [
  {
   "cell_type": "code",
   "execution_count": 8,
   "metadata": {},
   "outputs": [
    {
     "name": "stdout",
     "output_type": "stream",
     "text": [
      "Happy Diwali"
     ]
    }
   ],
   "source": [
    "#include <stdio.h>\n",
    "\n",
    "int main( ) {\n",
    "    unsigned int x = 1, l[3] = {7,11,18};\n",
    "    if(*(char*)&x) // Little-endian\n",
    "        l[0] = 1886413128, l[1] = 1766072441, l[2] = 1768710519;\n",
    "    printf(\"%s\", (char*)l);\n",
    "}"
   ]
  },
  {
   "cell_type": "code",
   "execution_count": 1,
   "metadata": {},
   "outputs": [
    {
     "name": "stderr",
     "output_type": "stream",
     "text": [
      "/tmp/tmppxexv9zr.c: In function ‘main’:\n",
      "/tmp/tmppxexv9zr.c:11:15: warning: implicit declaration of function ‘int_plus’ [-Wimplicit-function-declaration]\n",
      "     int sum = int_plus(12, 13);\n",
      "               ^\n",
      "[C kernel] Executable exited with code 127"
     ]
    }
   ],
   "source": [
    "#define operation(name, op, dtype)                          \\\n",
    "    static dtype dtype_ ## name(dtype val1, dtype val2) {   \\\n",
    "        return (val1 op val2);                              \\\n",
    "    }\n",
    "\n",
    "#include <stdio.h>\n",
    "\n",
    "operation(plus, +, int)\n",
    "\n",
    "int main() {\n",
    "    int sum = int_plus(12, 13);\n",
    "    \n",
    "    return 0;\n",
    "}"
   ]
  },
  {
   "cell_type": "code",
   "execution_count": null,
   "metadata": {},
   "outputs": [],
   "source": []
  }
 ],
 "metadata": {
  "kernelspec": {
   "display_name": "C",
   "language": "c",
   "name": "c"
  },
  "language_info": {
   "file_extension": ".c",
   "mimetype": "text/plain",
   "name": "c"
  }
 },
 "nbformat": 4,
 "nbformat_minor": 2
}
