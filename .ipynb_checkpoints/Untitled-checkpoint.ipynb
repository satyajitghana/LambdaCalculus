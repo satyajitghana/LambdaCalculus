{
 "cells": [
  {
   "cell_type": "code",
   "execution_count": 8,
   "metadata": {},
   "outputs": [
    {
     "name": "stdout",
     "output_type": "stream",
     "text": [
      "Happy Diwali"
     ]
    }
   ],
   "source": [
    "#include <stdio.h>\n",
    "\n",
    "int main( ) {\n",
    "    unsigned int x = 1, l[3] = {7,11,18};\n",
    "    if(*(char*)&x) // Little-endian\n",
    "        l[0] = 1886413128, l[1] = 1766072441, l[2] = 1768710519;\n",
    "    printf(\"%s\", (char*)l);\n",
    "}"
   ]
  },
  {
   "cell_type": "code",
   "execution_count": 40,
   "metadata": {},
   "outputs": [
    {
     "name": "stdout",
     "output_type": "stream",
     "text": [
      "18\n",
      "18\n"
     ]
    }
   ],
   "source": [
    "#define operation(name, op, dtype)                              \\\n",
    "    static dtype dtype ## _ ## name(dtype val1, dtype val2) {   \\\n",
    "        return (val1 op val2);                                  \\\n",
    "    }\n",
    "\n",
    "#define operation1(op, val1, val2) (val1 op val2) \n",
    "\n",
    "#include <stdio.h>\n",
    "\n",
    "operation(plus, +, int)\n",
    "\n",
    "int main() {\n",
    "    int sum = int_plus(15, 3);\n",
    "    int sum2 = operation1(+, 15, 3);\n",
    "    printf(\"%d\\n%d\\n\", sum, sum2);\n",
    "}"
   ]
  },
  {
   "cell_type": "code",
   "execution_count": null,
   "metadata": {},
   "outputs": [],
   "source": []
  }
 ],
 "metadata": {
  "kernelspec": {
   "display_name": "C",
   "language": "c",
   "name": "c"
  },
  "language_info": {
   "file_extension": ".c",
   "mimetype": "text/plain",
   "name": "c"
  }
 },
 "nbformat": 4,
 "nbformat_minor": 2
}
